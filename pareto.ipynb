{
 "cells": [
  {
   "cell_type": "code",
   "execution_count": 1,
   "metadata": {},
   "outputs": [
    {
     "name": "stderr",
     "output_type": "stream",
     "text": [
      "/home/ubuntu/.pyenv/versions/3.7.3/envs/dev/lib/python3.7/site-packages/pandas/compat/__init__.py:84: UserWarning: Could not import the lzma module. Your installed Python is incomplete. Attempting to use lzma compression will result in a RuntimeError.\n",
      "  warnings.warn(msg)\n",
      "/home/ubuntu/.pyenv/versions/3.7.3/envs/dev/lib/python3.7/site-packages/pandas/compat/__init__.py:84: UserWarning: Could not import the lzma module. Your installed Python is incomplete. Attempting to use lzma compression will result in a RuntimeError.\n",
      "  warnings.warn(msg)\n"
     ]
    }
   ],
   "source": [
    "import pandas\n",
    "import numpy\n",
    "import random\n",
    "import json\n",
    "import itertools\n",
    "class ParetoSearcher(object):\n",
    "    \n",
    "    def __init__(self, not_pareto_config):\n",
    "        self.not_pareto_config = not_pareto_config\n",
    "        self.not_pareto_rule = []\n",
    "        self.rest_df = None\n",
    "\n",
    "    def divide(self, df):\n",
    "        self.rest_df = df[self.not_pareto_config.keys()].copy()\n",
    "        for rule in self.not_pareto_rule:\n",
    "            bool_series = self._bool_series(rule)\n",
    "            if bool_series.sum() == 0:\n",
    "                continue\n",
    "            self.rest_df = self.rest_df[~bool_series]\n",
    "        return df.loc[self.rest_df.index]\n",
    "        \n",
    "    def search(self, df):\n",
    "        self.rest_df = df[self.not_pareto_config.keys()].copy()\n",
    "        #self._append_id()\n",
    "        for i in self.rest_df.index:\n",
    "            #print(i)\n",
    "            self._iteration(i)\n",
    "        return df.loc[self.rest_df.index]\n",
    "\n",
    "    def compress_rule(self):\n",
    "        def _compare(v1, v2, sign):\n",
    "            if sign == \">=\":\n",
    "                return v1 >= v2\n",
    "            elif sign == \">\":\n",
    "                return v1 > v2\n",
    "            elif sign == \"<=\":\n",
    "                return v1 <= v2\n",
    "            elif sign == \"<\":\n",
    "                return v1 < v2\n",
    "            elif sign == \"==\":\n",
    "                return v1 == v2\n",
    "            elif sign == \"!=\":\n",
    "                return v1 != v2\n",
    "            else:\n",
    "                raise Exception(\"Invalid sign: {}\".format(sign))\n",
    "\n",
    "        def _is_small_rule(rule_1, rule_2):\n",
    "            # rule_1 < rule_2を返す\n",
    "            return all([_compare(rule_1[col], rule_2[col], sign) for col, sign in self.not_pareto_config.items()])\n",
    "\n",
    "        not_pareto_rule = self.not_pareto_rule.copy()\n",
    "        for rule_1, rule_2 in list(itertools.permutations(self.not_pareto_rule, 2)):\n",
    "            if rule_1 not in not_pareto_rule or rule_2 not in not_pareto_rule:\n",
    "                continue\n",
    "            if _is_small_rule(rule_1, rule_2):\n",
    "                # rule_1 < rule_2なのでrule_1はいらない\n",
    "                not_pareto_rule.remove(rule_1)\n",
    "        self.not_pareto_rule = not_pareto_rule\n",
    "    \n",
    "    def _iteration(self, i):\n",
    "        if i not in self.rest_df.index:\n",
    "            #print(\"not index {}\".format(i))\n",
    "            return\n",
    "        values = self.rest_df.loc[i].values\n",
    "        rule = {col: v for v, col in zip(values, self.not_pareto_config.keys())}\n",
    "        self.not_pareto_rule.append(rule)\n",
    "        bool_series = self._bool_series(rule)\n",
    "        if bool_series.sum() == 0:\n",
    "            return\n",
    "        self.rest_df = self.rest_df[~bool_series]\n",
    "        \n",
    "    def _bool_series(self, rule):\n",
    "        # not paretoなseriesを取得\n",
    "        bool_series = pandas.Series([True]*len(self.rest_df), index=self.rest_df.index)\n",
    "        for col, sign in self.not_pareto_config.items():\n",
    "            s = self._filter(self.rest_df[col], sign, rule[col])\n",
    "            bool_series = bool_series & s\n",
    "        return bool_series\n",
    "        \n",
    "    \n",
    "    def _append_id(self):\n",
    "        assert \"Id\" not in self.rest_df.columns, \"Id must not be in df.columns\"\n",
    "        self.rest_df[\"Id\"] = self.rest_df.index\n",
    "        \n",
    "    def _filter(self, series, sign, value):\n",
    "        if sign == \">=\":\n",
    "            return series >= value\n",
    "        elif sign == \">\":\n",
    "            return series > value\n",
    "        elif sign == \"<=\":\n",
    "            return series <= value\n",
    "        elif sign == \"<\":\n",
    "            return series < value\n",
    "        elif sign == \"==\":\n",
    "            return series == value\n",
    "        elif sign == \"!=\":\n",
    "            return series != value\n",
    "        else:\n",
    "            raise Exception(\"Invalid sign: {}\".format(sign))\n",
    "            \n",
    "    def save_rule(self, filepath):\n",
    "        with open(filepath, \"w\", encoding=\"utf-8\") as f:\n",
    "            json.dump(self.not_pareto_rule, f, cls=MyEncoder, indent=4, ensure_ascii=False)\n",
    "            \n",
    "    def load_rule(self, filepath):\n",
    "        with open(filepath, \"r\", encoding=\"utf-8\") as f:\n",
    "            d = json.load(f)\n",
    "        self.not_pareto_rule = d\n",
    "\n",
    "class MyEncoder(json.JSONEncoder):\n",
    "    def default(self, obj):\n",
    "        if isinstance(obj, numpy.integer):\n",
    "            return int(obj)\n",
    "        elif isinstance(obj, numpy.floating):\n",
    "            return float(obj)\n",
    "        elif isinstance(obj, numpy.ndarray):\n",
    "            return obj.tolist()\n",
    "        else:\n",
    "            return super(MyEncoder, self).default(obj)"
   ]
  },
  {
   "cell_type": "code",
   "execution_count": 2,
   "metadata": {},
   "outputs": [
    {
     "name": "stdout",
     "output_type": "stream",
     "text": [
      "191\n",
      "171\n"
     ]
    }
   ],
   "source": [
    "# not_paretoの条件\n",
    "not_pareto_config = {\n",
    "    \"x1\": \">\",\n",
    "    \"x2\": \"<\",\n",
    "    #\"x3\": \"<\",\n",
    "    \"x4\": \"==\"#,\n",
    "    #\"x5\": \"==\"\n",
    "}\n",
    "\n",
    "self = ParetoSearcher(not_pareto_config)\n",
    "n = 1000\n",
    "#x1 = numpy.random.rand(n)\n",
    "#x2 = numpy.sqrt(1 - x1 ** 2)\n",
    "x1 = numpy.random.randint(0, 10, n)\n",
    "x2 = numpy.random.randint(0, 10, n)\n",
    "x3 = numpy.random.rand(n)\n",
    "x4 = random.choices([\"a\", \"b\", \"c\"], k=n)\n",
    "#x5 = random.choices([\"d\", \"e\", \"f\"], k=n)\n",
    "\n",
    "df = pandas.DataFrame({\"x1\": x1, \"x2\": x2, \"x3\": x3, \"x4\": x4})#sort_values(\"x1\").reset_index(drop=True)\n",
    "df[\"Id\"] = df.index\n",
    "pareto_df= self.search(df)\n",
    "print(len(self.not_pareto_rule))\n",
    "self.compress_rule()\n",
    "print(len(self.not_pareto_rule))\n"
   ]
  },
  {
   "cell_type": "code",
   "execution_count": 3,
   "metadata": {},
   "outputs": [],
   "source": [
    "self.save_rule(\"not_pareto_rule.json\")"
   ]
  },
  {
   "cell_type": "code",
   "execution_count": 4,
   "metadata": {
    "scrolled": true
   },
   "outputs": [],
   "source": [
    "pareto_df[\"pareto\"] = 1\n",
    "feature_data = df.merge(pareto_df, how=\"left\")\n",
    "feature_data[\"pareto\"] = feature_data[\"pareto\"].fillna(0)"
   ]
  },
  {
   "cell_type": "code",
   "execution_count": 6,
   "metadata": {},
   "outputs": [
    {
     "data": {
      "text/plain": [
       "<matplotlib.collections.PathCollection at 0x7f8708bc9240>"
      ]
     },
     "execution_count": 6,
     "metadata": {},
     "output_type": "execute_result"
    },
    {
     "data": {
      "image/png": "[encoded data removed]",
      "text/plain": [
       "<Figure size 432x288 with 1 Axes>"
      ]
     },
     "metadata": {
      "needs_background": "light"
     },
     "output_type": "display_data"
    }
   ],
   "source": [
    "pareto = feature_data.query(\"pareto == 1\").reset_index(drop=True)\n",
    "no_pareto = feature_data.query(\"pareto == 0\").reset_index(drop=True)\n",
    "import matplotlib.pyplot as plt\n",
    "plt.scatter(pareto[\"x1\"], pareto[\"x2\"], c=\"r\")\n",
    "plt.scatter(no_pareto[\"x1\"], no_pareto[\"x2\"], c=\"b\")\n"
   ]
  },
  {
   "cell_type": "code",
   "execution_count": 7,
   "metadata": {},
   "outputs": [],
   "source": [
    "self.load_rule(\"not_pareto_rule.json\")"
   ]
  },
  {
   "cell_type": "code",
   "execution_count": 8,
   "metadata": {
    "scrolled": true
   },
   "outputs": [],
   "source": [
    "pareto_df = self.divide(df)"
   ]
  },
  {
   "cell_type": "code",
   "execution_count": 9,
   "metadata": {},
   "outputs": [
    {
     "data": {
      "text/plain": [
       "<matplotlib.collections.PathCollection at 0x7f87084b2780>"
      ]
     },
     "execution_count": 9,
     "metadata": {},
     "output_type": "execute_result"
    },
    {
     "data": {
      "image/png": "[encoded data removed]",
      "text/plain": [
       "<Figure size 432x288 with 1 Axes>"
      ]
     },
     "metadata": {
      "needs_background": "light"
     },
     "output_type": "display_data"
    }
   ],
   "source": [
    "pareto_df[\"pareto\"] = 1\n",
    "feature_data = df.merge(pareto_df, how=\"left\")\n",
    "feature_data[\"pareto\"] = feature_data[\"pareto\"].fillna(0)\n",
    "\n",
    "pareto = feature_data.query(\"pareto == 1\").reset_index(drop=True)\n",
    "no_pareto = feature_data.query(\"pareto == 0\").reset_index(drop=True)\n",
    "import matplotlib.pyplot as plt\n",
    "plt.scatter(pareto[\"x1\"], pareto[\"x2\"], c=\"r\")\n",
    "plt.scatter(no_pareto[\"x1\"], no_pareto[\"x2\"], c=\"b\")\n"
   ]
  },
  {
   "cell_type": "code",
   "execution_count": null,
   "metadata": {},
   "outputs": [],
   "source": []
  }
 ],
 "metadata": {
  "kernelspec": {
   "display_name": "Python 3",
   "language": "python",
   "name": "python3"
  },
  "language_info": {
   "codemirror_mode": {
    "name": "ipython",
    "version": 3
   },
   "file_extension": ".py",
   "mimetype": "text/x-python",
   "name": "python",
   "nbconvert_exporter": "python",
   "pygments_lexer": "ipython3",
   "version": "3.7.3"
  }
 },
 "nbformat": 4,
 "nbformat_minor": 2
}

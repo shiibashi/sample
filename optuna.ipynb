{
 "cells": [
  {
   "cell_type": "code",
   "execution_count": 1,
   "metadata": {},
   "outputs": [],
   "source": [
    "import optuna\n",
    "import math\n",
    "import pandas\n",
    "import numpy\n",
    "from sklearn.linear_model import LinearRegression"
   ]
  },
  {
   "cell_type": "code",
   "execution_count": 2,
   "metadata": {},
   "outputs": [],
   "source": [
    "df = pandas.DataFrame({\"x\": numpy.random.rand(100)})\n",
    "df[\"y\"] = -df[\"x\"] * df[\"x\"] + 4\n",
    "df[\"z\"] = df[\"y\"] * 2 + df[\"x\"]"
   ]
  },
  {
   "cell_type": "code",
   "execution_count": 3,
   "metadata": {},
   "outputs": [],
   "source": [
    "def objective(trial):\n",
    "    intercept = trial.suggest_int(\"intercept\", 0, 1)\n",
    "    dummy = trial.suggest_uniform(\"dummy\", 0, 1)\n",
    "    scale = trial.suggest_uniform(\"scale\", 1, 5)\n",
    "    df2 = df.copy()\n",
    "    lm = LinearRegression(fit_intercept=intercept)\n",
    "    df2[\"z\"] = df2[\"z\"] + numpy.random.rand(len(df2)) * scale + dummy\n",
    "    lm.fit(df2[[\"x\", \"y\"]], df2[\"z\"])\n",
    "    obj = lm.score(df2[[\"x\", \"y\"]], df2[\"z\"])\n",
    "    return -obj"
   ]
  },
  {
   "cell_type": "code",
   "execution_count": 4,
   "metadata": {},
   "outputs": [],
   "source": [
    "study = optuna.create_study()"
   ]
  },
  {
   "cell_type": "code",
   "execution_count": 5,
   "metadata": {},
   "outputs": [
    {
     "name": "stderr",
     "output_type": "stream",
     "text": [
      "[I 2018-12-04 22:51:58,134] Finished a trial resulted in value: 0.1947009490567052. Current best value is 0.1947009490567052 with parameters: {'intercept': 0, 'dummy': 0.5480749387348269, 'scale': 2.28328522467959}.\n",
      "[I 2018-12-04 22:51:58,152] Finished a trial resulted in value: 0.01702798635059999. Current best value is 0.01702798635059999 with parameters: {'intercept': 1, 'dummy': 0.5698068687693959, 'scale': 4.9732952493225255}.\n",
      "[I 2018-12-04 22:51:58,157] Finished a trial resulted in value: 0.14098947655992666. Current best value is 0.01702798635059999 with parameters: {'intercept': 1, 'dummy': 0.5698068687693959, 'scale': 4.9732952493225255}.\n",
      "[I 2018-12-04 22:51:58,164] Finished a trial resulted in value: 0.3248812042330933. Current best value is 0.01702798635059999 with parameters: {'intercept': 1, 'dummy': 0.5698068687693959, 'scale': 4.9732952493225255}.\n",
      "[I 2018-12-04 22:51:58,168] Finished a trial resulted in value: 0.0468498703401089. Current best value is 0.01702798635059999 with parameters: {'intercept': 1, 'dummy': 0.5698068687693959, 'scale': 4.9732952493225255}.\n",
      "[I 2018-12-04 22:51:58,174] Finished a trial resulted in value: 0.48299833527362585. Current best value is 0.01702798635059999 with parameters: {'intercept': 1, 'dummy': 0.5698068687693959, 'scale': 4.9732952493225255}.\n",
      "[I 2018-12-04 22:51:58,180] Finished a trial resulted in value: 0.2517493676309712. Current best value is 0.01702798635059999 with parameters: {'intercept': 1, 'dummy': 0.5698068687693959, 'scale': 4.9732952493225255}.\n",
      "[I 2018-12-04 22:51:58,187] Finished a trial resulted in value: 0.12426979601884947. Current best value is 0.01702798635059999 with parameters: {'intercept': 1, 'dummy': 0.5698068687693959, 'scale': 4.9732952493225255}.\n",
      "[I 2018-12-04 22:51:58,195] Finished a trial resulted in value: 0.16301525616225054. Current best value is 0.01702798635059999 with parameters: {'intercept': 1, 'dummy': 0.5698068687693959, 'scale': 4.9732952493225255}.\n",
      "[I 2018-12-04 22:51:58,201] Finished a trial resulted in value: 0.16005279628651925. Current best value is 0.01702798635059999 with parameters: {'intercept': 1, 'dummy': 0.5698068687693959, 'scale': 4.9732952493225255}.\n",
      "[I 2018-12-04 22:51:58,216] Finished a trial resulted in value: 0.06218890278081168. Current best value is 0.01702798635059999 with parameters: {'intercept': 1, 'dummy': 0.5698068687693959, 'scale': 4.9732952493225255}.\n",
      "[I 2018-12-04 22:51:58,231] Finished a trial resulted in value: 0.12298906989595615. Current best value is 0.01702798635059999 with parameters: {'intercept': 1, 'dummy': 0.5698068687693959, 'scale': 4.9732952493225255}.\n",
      "[I 2018-12-04 22:51:58,247] Finished a trial resulted in value: 0.00776662275605744. Current best value is 0.00776662275605744 with parameters: {'intercept': 1, 'dummy': 0.2912817527386449, 'scale': 4.959344999737526}.\n",
      "[I 2018-12-04 22:51:58,262] Finished a trial resulted in value: 0.0782748282207304. Current best value is 0.00776662275605744 with parameters: {'intercept': 1, 'dummy': 0.2912817527386449, 'scale': 4.959344999737526}.\n",
      "[I 2018-12-04 22:51:58,274] Finished a trial resulted in value: 0.07304892739369573. Current best value is 0.00776662275605744 with parameters: {'intercept': 1, 'dummy': 0.2912817527386449, 'scale': 4.959344999737526}.\n",
      "[I 2018-12-04 22:51:58,285] Finished a trial resulted in value: 0.06602229927746184. Current best value is 0.00776662275605744 with parameters: {'intercept': 1, 'dummy': 0.2912817527386449, 'scale': 4.959344999737526}.\n",
      "[I 2018-12-04 22:51:58,298] Finished a trial resulted in value: 0.0918787445917163. Current best value is 0.00776662275605744 with parameters: {'intercept': 1, 'dummy': 0.2912817527386449, 'scale': 4.959344999737526}.\n",
      "[I 2018-12-04 22:51:58,314] Finished a trial resulted in value: 0.0712116726464973. Current best value is 0.00776662275605744 with parameters: {'intercept': 1, 'dummy': 0.2912817527386449, 'scale': 4.959344999737526}.\n",
      "[I 2018-12-04 22:51:58,328] Finished a trial resulted in value: 0.11168312156250704. Current best value is 0.00776662275605744 with parameters: {'intercept': 1, 'dummy': 0.2912817527386449, 'scale': 4.959344999737526}.\n",
      "[I 2018-12-04 22:51:58,344] Finished a trial resulted in value: 0.029367059252447758. Current best value is 0.00776662275605744 with parameters: {'intercept': 1, 'dummy': 0.2912817527386449, 'scale': 4.959344999737526}.\n",
      "[I 2018-12-04 22:51:58,358] Finished a trial resulted in value: 0.05029738782668747. Current best value is 0.00776662275605744 with parameters: {'intercept': 1, 'dummy': 0.2912817527386449, 'scale': 4.959344999737526}.\n",
      "[I 2018-12-04 22:51:58,372] Finished a trial resulted in value: 0.08923074963123279. Current best value is 0.00776662275605744 with parameters: {'intercept': 1, 'dummy': 0.2912817527386449, 'scale': 4.959344999737526}.\n",
      "[I 2018-12-04 22:51:58,385] Finished a trial resulted in value: 0.038731684663839916. Current best value is 0.00776662275605744 with parameters: {'intercept': 1, 'dummy': 0.2912817527386449, 'scale': 4.959344999737526}.\n",
      "[I 2018-12-04 22:51:58,399] Finished a trial resulted in value: 0.04469834953834274. Current best value is 0.00776662275605744 with parameters: {'intercept': 1, 'dummy': 0.2912817527386449, 'scale': 4.959344999737526}.\n",
      "[I 2018-12-04 22:51:58,414] Finished a trial resulted in value: 0.06683521054108565. Current best value is 0.00776662275605744 with parameters: {'intercept': 1, 'dummy': 0.2912817527386449, 'scale': 4.959344999737526}.\n",
      "[I 2018-12-04 22:51:58,431] Finished a trial resulted in value: 0.07520537527786486. Current best value is 0.00776662275605744 with parameters: {'intercept': 1, 'dummy': 0.2912817527386449, 'scale': 4.959344999737526}.\n",
      "[I 2018-12-04 22:51:58,446] Finished a trial resulted in value: 0.043658411846769773. Current best value is 0.00776662275605744 with parameters: {'intercept': 1, 'dummy': 0.2912817527386449, 'scale': 4.959344999737526}.\n",
      "[I 2018-12-04 22:51:58,462] Finished a trial resulted in value: 0.07938359567326025. Current best value is 0.00776662275605744 with parameters: {'intercept': 1, 'dummy': 0.2912817527386449, 'scale': 4.959344999737526}.\n",
      "[I 2018-12-04 22:51:58,478] Finished a trial resulted in value: -0.009291561458389497. Current best value is -0.009291561458389497 with parameters: {'intercept': 0, 'dummy': 0.5118260736008265, 'scale': 4.885769435196551}.\n",
      "[I 2018-12-04 22:51:58,494] Finished a trial resulted in value: 0.039536167090075014. Current best value is -0.009291561458389497 with parameters: {'intercept': 0, 'dummy': 0.5118260736008265, 'scale': 4.885769435196551}.\n",
      "[I 2018-12-04 22:51:58,509] Finished a trial resulted in value: 0.06013577573988993. Current best value is -0.009291561458389497 with parameters: {'intercept': 0, 'dummy': 0.5118260736008265, 'scale': 4.885769435196551}.\n",
      "[I 2018-12-04 22:51:58,530] Finished a trial resulted in value: 0.04414447641151964. Current best value is -0.009291561458389497 with parameters: {'intercept': 0, 'dummy': 0.5118260736008265, 'scale': 4.885769435196551}.\n",
      "[I 2018-12-04 22:51:58,547] Finished a trial resulted in value: 0.09684407214153501. Current best value is -0.009291561458389497 with parameters: {'intercept': 0, 'dummy': 0.5118260736008265, 'scale': 4.885769435196551}.\n",
      "[I 2018-12-04 22:51:58,568] Finished a trial resulted in value: 0.023429365149877146. Current best value is -0.009291561458389497 with parameters: {'intercept': 0, 'dummy': 0.5118260736008265, 'scale': 4.885769435196551}.\n",
      "[I 2018-12-04 22:51:58,584] Finished a trial resulted in value: 0.06277621631585073. Current best value is -0.009291561458389497 with parameters: {'intercept': 0, 'dummy': 0.5118260736008265, 'scale': 4.885769435196551}.\n",
      "[I 2018-12-04 22:51:58,599] Finished a trial resulted in value: 0.46684193986010175. Current best value is -0.009291561458389497 with parameters: {'intercept': 0, 'dummy': 0.5118260736008265, 'scale': 4.885769435196551}.\n",
      "[I 2018-12-04 22:51:58,619] Finished a trial resulted in value: 0.10797167733424107. Current best value is -0.009291561458389497 with parameters: {'intercept': 0, 'dummy': 0.5118260736008265, 'scale': 4.885769435196551}.\n",
      "[I 2018-12-04 22:51:58,636] Finished a trial resulted in value: 0.09808896887732999. Current best value is -0.009291561458389497 with parameters: {'intercept': 0, 'dummy': 0.5118260736008265, 'scale': 4.885769435196551}.\n",
      "[I 2018-12-04 22:51:58,653] Finished a trial resulted in value: -0.020988209101452382. Current best value is -0.020988209101452382 with parameters: {'intercept': 0, 'dummy': 0.5480415742272831, 'scale': 4.937984430059335}.\n",
      "[I 2018-12-04 22:51:58,675] Finished a trial resulted in value: 0.32053711157481823. Current best value is -0.020988209101452382 with parameters: {'intercept': 0, 'dummy': 0.5480415742272831, 'scale': 4.937984430059335}.\n",
      "[I 2018-12-04 22:51:58,693] Finished a trial resulted in value: 0.0342781871110861. Current best value is -0.020988209101452382 with parameters: {'intercept': 0, 'dummy': 0.5480415742272831, 'scale': 4.937984430059335}.\n",
      "[I 2018-12-04 22:51:58,710] Finished a trial resulted in value: 0.15555959621317217. Current best value is -0.020988209101452382 with parameters: {'intercept': 0, 'dummy': 0.5480415742272831, 'scale': 4.937984430059335}.\n",
      "[I 2018-12-04 22:51:58,725] Finished a trial resulted in value: -0.004252262413170893. Current best value is -0.020988209101452382 with parameters: {'intercept': 0, 'dummy': 0.5480415742272831, 'scale': 4.937984430059335}.\n",
      "[I 2018-12-04 22:51:58,746] Finished a trial resulted in value: 0.143191179885106. Current best value is -0.020988209101452382 with parameters: {'intercept': 0, 'dummy': 0.5480415742272831, 'scale': 4.937984430059335}.\n",
      "[I 2018-12-04 22:51:58,765] Finished a trial resulted in value: 0.0194471439377083. Current best value is -0.020988209101452382 with parameters: {'intercept': 0, 'dummy': 0.5480415742272831, 'scale': 4.937984430059335}.\n",
      "[I 2018-12-04 22:51:58,784] Finished a trial resulted in value: 0.08994597434090068. Current best value is -0.020988209101452382 with parameters: {'intercept': 0, 'dummy': 0.5480415742272831, 'scale': 4.937984430059335}.\n",
      "[I 2018-12-04 22:51:58,804] Finished a trial resulted in value: 0.13182057151365856. Current best value is -0.020988209101452382 with parameters: {'intercept': 0, 'dummy': 0.5480415742272831, 'scale': 4.937984430059335}.\n",
      "[I 2018-12-04 22:51:58,820] Finished a trial resulted in value: 0.10668932904232531. Current best value is -0.020988209101452382 with parameters: {'intercept': 0, 'dummy': 0.5480415742272831, 'scale': 4.937984430059335}.\n",
      "[I 2018-12-04 22:51:58,837] Finished a trial resulted in value: 0.10897853121059975. Current best value is -0.020988209101452382 with parameters: {'intercept': 0, 'dummy': 0.5480415742272831, 'scale': 4.937984430059335}.\n",
      "[I 2018-12-04 22:51:58,860] Finished a trial resulted in value: 0.010633307913696766. Current best value is -0.020988209101452382 with parameters: {'intercept': 0, 'dummy': 0.5480415742272831, 'scale': 4.937984430059335}.\n",
      "[I 2018-12-04 22:51:58,881] Finished a trial resulted in value: 0.001968949796312902. Current best value is -0.020988209101452382 with parameters: {'intercept': 0, 'dummy': 0.5480415742272831, 'scale': 4.937984430059335}.\n",
      "[I 2018-12-04 22:51:58,902] Finished a trial resulted in value: 0.07966235567453617. Current best value is -0.020988209101452382 with parameters: {'intercept': 0, 'dummy': 0.5480415742272831, 'scale': 4.937984430059335}.\n",
      "[I 2018-12-04 22:51:58,922] Finished a trial resulted in value: 0.015657022439199975. Current best value is -0.020988209101452382 with parameters: {'intercept': 0, 'dummy': 0.5480415742272831, 'scale': 4.937984430059335}.\n",
      "[I 2018-12-04 22:51:58,947] Finished a trial resulted in value: 0.042428433231681766. Current best value is -0.020988209101452382 with parameters: {'intercept': 0, 'dummy': 0.5480415742272831, 'scale': 4.937984430059335}.\n",
      "[I 2018-12-04 22:51:58,971] Finished a trial resulted in value: 0.0419011574542285. Current best value is -0.020988209101452382 with parameters: {'intercept': 0, 'dummy': 0.5480415742272831, 'scale': 4.937984430059335}.\n",
      "[I 2018-12-04 22:51:58,988] Finished a trial resulted in value: 0.102257489133744. Current best value is -0.020988209101452382 with parameters: {'intercept': 0, 'dummy': 0.5480415742272831, 'scale': 4.937984430059335}.\n",
      "[I 2018-12-04 22:51:59,009] Finished a trial resulted in value: 0.2013030058943741. Current best value is -0.020988209101452382 with parameters: {'intercept': 0, 'dummy': 0.5480415742272831, 'scale': 4.937984430059335}.\n",
      "[I 2018-12-04 22:51:59,027] Finished a trial resulted in value: 0.05759921268661006. Current best value is -0.020988209101452382 with parameters: {'intercept': 0, 'dummy': 0.5480415742272831, 'scale': 4.937984430059335}.\n",
      "[I 2018-12-04 22:51:59,049] Finished a trial resulted in value: 0.09622362141577112. Current best value is -0.020988209101452382 with parameters: {'intercept': 0, 'dummy': 0.5480415742272831, 'scale': 4.937984430059335}.\n",
      "[I 2018-12-04 22:51:59,069] Finished a trial resulted in value: 0.05152715857638257. Current best value is -0.020988209101452382 with parameters: {'intercept': 0, 'dummy': 0.5480415742272831, 'scale': 4.937984430059335}.\n",
      "[I 2018-12-04 22:51:59,097] Finished a trial resulted in value: 0.15559756996117435. Current best value is -0.020988209101452382 with parameters: {'intercept': 0, 'dummy': 0.5480415742272831, 'scale': 4.937984430059335}.\n",
      "[I 2018-12-04 22:51:59,121] Finished a trial resulted in value: 0.30356364673326264. Current best value is -0.020988209101452382 with parameters: {'intercept': 0, 'dummy': 0.5480415742272831, 'scale': 4.937984430059335}.\n",
      "[I 2018-12-04 22:51:59,148] Finished a trial resulted in value: 0.14807978715901882. Current best value is -0.020988209101452382 with parameters: {'intercept': 0, 'dummy': 0.5480415742272831, 'scale': 4.937984430059335}.\n",
      "[I 2018-12-04 22:51:59,171] Finished a trial resulted in value: 0.08020613340511673. Current best value is -0.020988209101452382 with parameters: {'intercept': 0, 'dummy': 0.5480415742272831, 'scale': 4.937984430059335}.\n",
      "[I 2018-12-04 22:51:59,195] Finished a trial resulted in value: 0.03154557352253995. Current best value is -0.020988209101452382 with parameters: {'intercept': 0, 'dummy': 0.5480415742272831, 'scale': 4.937984430059335}.\n",
      "[I 2018-12-04 22:51:59,222] Finished a trial resulted in value: 0.034492871648647117. Current best value is -0.020988209101452382 with parameters: {'intercept': 0, 'dummy': 0.5480415742272831, 'scale': 4.937984430059335}.\n",
      "[I 2018-12-04 22:51:59,248] Finished a trial resulted in value: 0.136747505549619. Current best value is -0.020988209101452382 with parameters: {'intercept': 0, 'dummy': 0.5480415742272831, 'scale': 4.937984430059335}.\n",
      "[I 2018-12-04 22:51:59,273] Finished a trial resulted in value: 0.14515797321819746. Current best value is -0.020988209101452382 with parameters: {'intercept': 0, 'dummy': 0.5480415742272831, 'scale': 4.937984430059335}.\n",
      "[I 2018-12-04 22:51:59,293] Finished a trial resulted in value: 0.0833542834473484. Current best value is -0.020988209101452382 with parameters: {'intercept': 0, 'dummy': 0.5480415742272831, 'scale': 4.937984430059335}.\n",
      "[I 2018-12-04 22:51:59,315] Finished a trial resulted in value: -0.011955719023942546. Current best value is -0.020988209101452382 with parameters: {'intercept': 0, 'dummy': 0.5480415742272831, 'scale': 4.937984430059335}.\n",
      "[I 2018-12-04 22:51:59,337] Finished a trial resulted in value: -0.0006037615339988811. Current best value is -0.020988209101452382 with parameters: {'intercept': 0, 'dummy': 0.5480415742272831, 'scale': 4.937984430059335}.\n",
      "[I 2018-12-04 22:51:59,362] Finished a trial resulted in value: 0.05877356930824329. Current best value is -0.020988209101452382 with parameters: {'intercept': 0, 'dummy': 0.5480415742272831, 'scale': 4.937984430059335}.\n",
      "[I 2018-12-04 22:51:59,386] Finished a trial resulted in value: 0.09578073057204084. Current best value is -0.020988209101452382 with parameters: {'intercept': 0, 'dummy': 0.5480415742272831, 'scale': 4.937984430059335}.\n",
      "[I 2018-12-04 22:51:59,415] Finished a trial resulted in value: 0.04700528489325029. Current best value is -0.020988209101452382 with parameters: {'intercept': 0, 'dummy': 0.5480415742272831, 'scale': 4.937984430059335}.\n"
     ]
    },
    {
     "name": "stderr",
     "output_type": "stream",
     "text": [
      "[I 2018-12-04 22:51:59,444] Finished a trial resulted in value: 0.1316832082410282. Current best value is -0.020988209101452382 with parameters: {'intercept': 0, 'dummy': 0.5480415742272831, 'scale': 4.937984430059335}.\n",
      "[I 2018-12-04 22:51:59,475] Finished a trial resulted in value: 0.07169040475998767. Current best value is -0.020988209101452382 with parameters: {'intercept': 0, 'dummy': 0.5480415742272831, 'scale': 4.937984430059335}.\n",
      "[I 2018-12-04 22:51:59,506] Finished a trial resulted in value: 0.08612965710087317. Current best value is -0.020988209101452382 with parameters: {'intercept': 0, 'dummy': 0.5480415742272831, 'scale': 4.937984430059335}.\n",
      "[I 2018-12-04 22:51:59,529] Finished a trial resulted in value: 0.04215834580577494. Current best value is -0.020988209101452382 with parameters: {'intercept': 0, 'dummy': 0.5480415742272831, 'scale': 4.937984430059335}.\n",
      "[I 2018-12-04 22:51:59,559] Finished a trial resulted in value: -0.016054906456088203. Current best value is -0.020988209101452382 with parameters: {'intercept': 0, 'dummy': 0.5480415742272831, 'scale': 4.937984430059335}.\n",
      "[I 2018-12-04 22:51:59,583] Finished a trial resulted in value: -0.010951330778510293. Current best value is -0.020988209101452382 with parameters: {'intercept': 0, 'dummy': 0.5480415742272831, 'scale': 4.937984430059335}.\n",
      "[I 2018-12-04 22:51:59,610] Finished a trial resulted in value: 0.0033957383858802537. Current best value is -0.020988209101452382 with parameters: {'intercept': 0, 'dummy': 0.5480415742272831, 'scale': 4.937984430059335}.\n",
      "[I 2018-12-04 22:51:59,638] Finished a trial resulted in value: 0.04492359534059798. Current best value is -0.020988209101452382 with parameters: {'intercept': 0, 'dummy': 0.5480415742272831, 'scale': 4.937984430059335}.\n",
      "[I 2018-12-04 22:51:59,666] Finished a trial resulted in value: 0.014264790392644278. Current best value is -0.020988209101452382 with parameters: {'intercept': 0, 'dummy': 0.5480415742272831, 'scale': 4.937984430059335}.\n",
      "[I 2018-12-04 22:51:59,687] Finished a trial resulted in value: 0.10323881091112697. Current best value is -0.020988209101452382 with parameters: {'intercept': 0, 'dummy': 0.5480415742272831, 'scale': 4.937984430059335}.\n",
      "[I 2018-12-04 22:51:59,717] Finished a trial resulted in value: 0.014329539667259581. Current best value is -0.020988209101452382 with parameters: {'intercept': 0, 'dummy': 0.5480415742272831, 'scale': 4.937984430059335}.\n",
      "[I 2018-12-04 22:51:59,743] Finished a trial resulted in value: 0.12133283530546946. Current best value is -0.020988209101452382 with parameters: {'intercept': 0, 'dummy': 0.5480415742272831, 'scale': 4.937984430059335}.\n",
      "[I 2018-12-04 22:51:59,768] Finished a trial resulted in value: 0.5149713689059675. Current best value is -0.020988209101452382 with parameters: {'intercept': 0, 'dummy': 0.5480415742272831, 'scale': 4.937984430059335}.\n",
      "[I 2018-12-04 22:51:59,798] Finished a trial resulted in value: 0.03818887025365625. Current best value is -0.020988209101452382 with parameters: {'intercept': 0, 'dummy': 0.5480415742272831, 'scale': 4.937984430059335}.\n",
      "[I 2018-12-04 22:51:59,830] Finished a trial resulted in value: 0.08977782081221375. Current best value is -0.020988209101452382 with parameters: {'intercept': 0, 'dummy': 0.5480415742272831, 'scale': 4.937984430059335}.\n",
      "[I 2018-12-04 22:51:59,857] Finished a trial resulted in value: -0.006520348630663975. Current best value is -0.020988209101452382 with parameters: {'intercept': 0, 'dummy': 0.5480415742272831, 'scale': 4.937984430059335}.\n",
      "[I 2018-12-04 22:51:59,887] Finished a trial resulted in value: 0.1314659323738796. Current best value is -0.020988209101452382 with parameters: {'intercept': 0, 'dummy': 0.5480415742272831, 'scale': 4.937984430059335}.\n",
      "[I 2018-12-04 22:51:59,919] Finished a trial resulted in value: 0.06100644366713204. Current best value is -0.020988209101452382 with parameters: {'intercept': 0, 'dummy': 0.5480415742272831, 'scale': 4.937984430059335}.\n",
      "[I 2018-12-04 22:51:59,950] Finished a trial resulted in value: 0.12656962526072568. Current best value is -0.020988209101452382 with parameters: {'intercept': 0, 'dummy': 0.5480415742272831, 'scale': 4.937984430059335}.\n",
      "[I 2018-12-04 22:51:59,979] Finished a trial resulted in value: 0.1612675816234238. Current best value is -0.020988209101452382 with parameters: {'intercept': 0, 'dummy': 0.5480415742272831, 'scale': 4.937984430059335}.\n",
      "[I 2018-12-04 22:52:00,009] Finished a trial resulted in value: 0.08407543233281511. Current best value is -0.020988209101452382 with parameters: {'intercept': 0, 'dummy': 0.5480415742272831, 'scale': 4.937984430059335}.\n",
      "[I 2018-12-04 22:52:00,038] Finished a trial resulted in value: -0.033806141265586565. Current best value is -0.033806141265586565 with parameters: {'intercept': 0, 'dummy': 0.9757316027924707, 'scale': 4.421644328196012}.\n",
      "[I 2018-12-04 22:52:00,073] Finished a trial resulted in value: 0.3990263366027925. Current best value is -0.033806141265586565 with parameters: {'intercept': 0, 'dummy': 0.9757316027924707, 'scale': 4.421644328196012}.\n",
      "[I 2018-12-04 22:52:00,103] Finished a trial resulted in value: 0.4862936686988559. Current best value is -0.033806141265586565 with parameters: {'intercept': 0, 'dummy': 0.9757316027924707, 'scale': 4.421644328196012}.\n",
      "[I 2018-12-04 22:52:00,131] Finished a trial resulted in value: 0.269952156185014. Current best value is -0.033806141265586565 with parameters: {'intercept': 0, 'dummy': 0.9757316027924707, 'scale': 4.421644328196012}.\n",
      "[I 2018-12-04 22:52:00,160] Finished a trial resulted in value: 0.1959456029389333. Current best value is -0.033806141265586565 with parameters: {'intercept': 0, 'dummy': 0.9757316027924707, 'scale': 4.421644328196012}.\n"
     ]
    }
   ],
   "source": [
    "study.optimize(objective, n_trials=100)"
   ]
  },
  {
   "cell_type": "code",
   "execution_count": 6,
   "metadata": {},
   "outputs": [
    {
     "data": {
      "text/plain": [
       "FrozenTrial(trial_id=95, state=<TrialState.COMPLETE: 1>, value=-0.033806141265586565, datetime_start=datetime.datetime(2018, 12, 4, 22, 52, 0, 10732), datetime_complete=datetime.datetime(2018, 12, 4, 22, 52, 0, 31675), params={'intercept': 0, 'dummy': 0.9757316027924707, 'scale': 4.421644328196012}, user_attrs={}, system_attrs={}, intermediate_values={}, params_in_internal_repr={'intercept': 0, 'dummy': 0.9757316027924707, 'scale': 4.421644328196012})"
      ]
     },
     "execution_count": 6,
     "metadata": {},
     "output_type": "execute_result"
    }
   ],
   "source": [
    "study.best_trial"
   ]
  },
  {
   "cell_type": "code",
   "execution_count": 7,
   "metadata": {},
   "outputs": [
    {
     "data": {
      "text/plain": [
       "{'dummy': 0.9757316027924707, 'intercept': 0, 'scale': 4.421644328196012}"
      ]
     },
     "execution_count": 7,
     "metadata": {},
     "output_type": "execute_result"
    }
   ],
   "source": [
    "study.best_params"
   ]
  },
  {
   "cell_type": "code",
   "execution_count": null,
   "metadata": {},
   "outputs": [],
   "source": []
  }
 ],
 "metadata": {
  "kernelspec": {
   "display_name": "Python 3",
   "language": "python",
   "name": "python3"
  },
  "language_info": {
   "codemirror_mode": {
    "name": "ipython",
    "version": 3
   },
   "file_extension": ".py",
   "mimetype": "text/x-python",
   "name": "python",
   "nbconvert_exporter": "python",
   "pygments_lexer": "ipython3",
   "version": "3.6.4"
  }
 },
 "nbformat": 4,
 "nbformat_minor": 2
}

{
 "cells": [
  {
   "cell_type": "code",
   "execution_count": 1,
   "metadata": {},
   "outputs": [],
   "source": [
    "import sklearn\n",
    "import math\n",
    "import pandas\n",
    "import numpy\n",
    "from sklearn.linear_model import LinearRegression"
   ]
  },
  {
   "cell_type": "code",
   "execution_count": 2,
   "metadata": {
    "scrolled": true
   },
   "outputs": [],
   "source": [
    "df = pandas.DataFrame({\"x\": numpy.random.rand(100)})\n",
    "df[\"y\"] = -df[\"x\"] * df[\"x\"] + 4\n",
    "df[\"z\"] = df[\"y\"] * 2 + df[\"x\"]"
   ]
  },
  {
   "cell_type": "code",
   "execution_count": 3,
   "metadata": {},
   "outputs": [],
   "source": [
    "from skopt.space import Real, Integer\n",
    "from skopt.utils import use_named_args\n",
    "\n",
    "space = [\n",
    "    Integer(0, 1, name=\"intercept\"),\n",
    "    Real(0, 1, \"uniform\", name=\"dummy\"),\n",
    "    Real(1, 5, \"uniform\", name=\"scale\"),    \n",
    "]"
   ]
  },
  {
   "cell_type": "code",
   "execution_count": 4,
   "metadata": {},
   "outputs": [],
   "source": [
    "from skopt import gp_minimize\n",
    "from skopt import forest_minimize\n",
    "\n",
    "class MLModel(object):\n",
    "    def __init__(self, df, params={}):\n",
    "        self.params = params\n",
    "        self.df = df\n",
    "    \n",
    "    def set_params(self, **params):\n",
    "        print(params)\n",
    "        self.params = params\n",
    "\n",
    "    def set_dataftame(self, df):\n",
    "        self.df = df\n",
    "        \n",
    "    def opt_fit(self, space):\n",
    "        #gp = gp_minimize(self.objective, space, n_calls=50, random_state=0)\n",
    "        \n",
    "        @use_named_args(space)\n",
    "        def my_objective(**params):\n",
    "            self.set_params(**params)\n",
    "            obj = self._train()\n",
    "            return -obj\n",
    "            \n",
    "        gp = forest_minimize(func=my_objective, dimensions=space)\n",
    "        return gp\n",
    "       \n",
    "    def objective(self, **params):\n",
    "        self.set_params(**params)\n",
    "        obj = self._train()\n",
    "        return obj\n",
    "        \n",
    "    def _train(self):\n",
    "        df = self.df.copy()\n",
    "        lm = LinearRegression(fit_intercept=self.params[\"intercept\"])\n",
    "        df[\"z\"] = df[\"z\"] + numpy.random.rand(len(df)) * self.params[\"scale\"] + self.params[\"dummy\"]\n",
    "        lm.fit(df[[\"x\", \"y\"]], df[\"z\"])\n",
    "        obj = lm.score(df[[\"x\", \"y\"]], df[\"z\"])\n",
    "        return obj"
   ]
  },
  {
   "cell_type": "code",
   "execution_count": 7,
   "metadata": {},
   "outputs": [],
   "source": [
    "def opt_fit(space):\n",
    "    @use_named_args(space)\n",
    "    def my_objective(**params):\n",
    "        obj = _objective(**params)\n",
    "        return -obj\n",
    "    gp = forest_minimize(func=my_objective, dimensions=space)\n",
    "    return gp\n",
    "    \n",
    "def _objective(**params):\n",
    "    print(params)\n",
    "    df2 = df.copy()\n",
    "    lm = LinearRegression(fit_intercept=params[\"intercept\"])\n",
    "    df2[\"z\"] = df2[\"z\"] + numpy.random.rand(len(df2)) * params[\"scale\"] + params[\"dummy\"]\n",
    "    lm.fit(df2[[\"x\", \"y\"]], df2[\"z\"])\n",
    "    obj = lm.score(df2[[\"x\", \"y\"]], df2[\"z\"])\n",
    "    return obj"
   ]
  },
  {
   "cell_type": "code",
   "execution_count": 8,
   "metadata": {},
   "outputs": [
    {
     "name": "stdout",
     "output_type": "stream",
     "text": [
      "{'intercept': 1, 'dummy': 0.52216771235836, 'scale': 3.1777870006066427}\n",
      "{'intercept': 1, 'dummy': 0.2627247015347866, 'scale': 1.2976050667947359}\n",
      "{'intercept': 0, 'dummy': 0.8538596243317582, 'scale': 4.167502734611342}\n",
      "{'intercept': 1, 'dummy': 0.5997477142728695, 'scale': 1.6699008836700218}\n",
      "{'intercept': 0, 'dummy': 0.6327441909160353, 'scale': 1.6872961871624832}\n",
      "{'intercept': 1, 'dummy': 0.9159942736943919, 'scale': 1.9099355097357151}\n",
      "{'intercept': 0, 'dummy': 0.877340717666809, 'scale': 2.6357712957477286}\n",
      "{'intercept': 0, 'dummy': 0.09639391666231137, 'scale': 2.9574312568094143}\n",
      "{'intercept': 1, 'dummy': 0.1166423711277699, 'scale': 3.055115191322134}\n",
      "{'intercept': 0, 'dummy': 0.4249685082721997, 'scale': 2.545873279029911}\n",
      "{'intercept': 1, 'dummy': 0.45745085448845313, 'scale': 1.5599790515127077}\n",
      "{'intercept': 1, 'dummy': 0.1489007873390739, 'scale': 1.2219378905737557}\n",
      "{'intercept': 1, 'dummy': 0.2763829636418537, 'scale': 1.2703593146057628}\n",
      "{'intercept': 1, 'dummy': 0.20903399804922534, 'scale': 1.3251268858153908}\n",
      "{'intercept': 1, 'dummy': 0.18850717654757038, 'scale': 1.319607059834063}\n",
      "{'intercept': 1, 'dummy': 0.047083238696791666, 'scale': 1.3193279480464328}\n",
      "{'intercept': 1, 'dummy': 0.10511386274373538, 'scale': 1.3197175840340436}\n",
      "{'intercept': 1, 'dummy': 0.06250778806201031, 'scale': 1.3093163525892884}\n",
      "{'intercept': 1, 'dummy': 0.13605630320463427, 'scale': 1.1462445232667142}\n",
      "{'intercept': 1, 'dummy': 0.13794624805146652, 'scale': 1.1318297918390208}\n",
      "{'intercept': 1, 'dummy': 0.13556940550093302, 'scale': 1.1296256578667156}\n",
      "{'intercept': 0, 'dummy': 0.14601801252303784, 'scale': 1.086800692713144}\n",
      "{'intercept': 0, 'dummy': 0.14353063710536476, 'scale': 1.1090990176312072}\n",
      "{'intercept': 0, 'dummy': 0.11257885226514378, 'scale': 1.0865507330509714}\n",
      "{'intercept': 0, 'dummy': 0.33058163720073847, 'scale': 1.0602006808106506}\n",
      "{'intercept': 0, 'dummy': 0.411046310759424, 'scale': 1.0187860966780269}\n",
      "{'intercept': 0, 'dummy': 0.09197100269126825, 'scale': 1.116313393813246}\n",
      "{'intercept': 0, 'dummy': 0.431152013388888, 'scale': 1.049591563223374}\n",
      "{'intercept': 0, 'dummy': 0.00398151895032195, 'scale': 1.1306844442568829}\n",
      "{'intercept': 0, 'dummy': 0.08648200498153204, 'scale': 1.1222436558411393}\n",
      "{'intercept': 0, 'dummy': 0.17725622222372997, 'scale': 1.2570584245350203}\n",
      "{'intercept': 0, 'dummy': 0.10901997435105396, 'scale': 1.1072277872749474}\n",
      "{'intercept': 0, 'dummy': 0.7466150611413259, 'scale': 1.0918215062864798}\n",
      "{'intercept': 0, 'dummy': 0.9860521294538659, 'scale': 1.0912796217187553}\n",
      "{'intercept': 0, 'dummy': 0.9196947318833938, 'scale': 1.0972676058453672}\n",
      "{'intercept': 0, 'dummy': 0.9836044788757927, 'scale': 1.1206501265242377}\n",
      "{'intercept': 0, 'dummy': 0.15624131157867774, 'scale': 1.4532510590385388}\n",
      "{'intercept': 0, 'dummy': 0.8595768076580435, 'scale': 1.1238969381534987}\n",
      "{'intercept': 0, 'dummy': 0.13585093573567078, 'scale': 1.0824852949559212}\n",
      "{'intercept': 0, 'dummy': 0.1544921108749057, 'scale': 1.0884311390635104}\n",
      "{'intercept': 0, 'dummy': 0.08452532199960373, 'scale': 1.4395987890956388}\n",
      "{'intercept': 1, 'dummy': 0.9489565124487138, 'scale': 1.085814779639982}\n",
      "{'intercept': 1, 'dummy': 0.9429362358748911, 'scale': 1.077925630108258}\n",
      "{'intercept': 1, 'dummy': 0.9390335252332226, 'scale': 1.0854652762536965}\n",
      "{'intercept': 1, 'dummy': 0.46311471052287967, 'scale': 1.0864278568646455}\n",
      "{'intercept': 1, 'dummy': 0.9230929194505232, 'scale': 1.0855242780214471}\n",
      "{'intercept': 1, 'dummy': 0.7572411834032802, 'scale': 1.1348099309561368}\n",
      "{'intercept': 1, 'dummy': 0.8485723404333598, 'scale': 1.0874892236049774}\n",
      "{'intercept': 0, 'dummy': 0.88123303686993, 'scale': 1.2408147285173103}\n",
      "{'intercept': 1, 'dummy': 0.989148825903482, 'scale': 1.0868748006518683}\n",
      "{'intercept': 0, 'dummy': 0.9560319172019861, 'scale': 1.3831971080936514}\n",
      "{'intercept': 0, 'dummy': 0.8563539378278119, 'scale': 1.19337470105727}\n",
      "{'intercept': 1, 'dummy': 0.4588640662298985, 'scale': 1.1310572015004454}\n",
      "{'intercept': 0, 'dummy': 0.48155436563861465, 'scale': 1.1361587719783555}\n",
      "{'intercept': 1, 'dummy': 0.515423668317802, 'scale': 1.1290616433180567}\n",
      "{'intercept': 1, 'dummy': 0.9537127047076429, 'scale': 1.0832067515780626}\n",
      "{'intercept': 1, 'dummy': 0.9486404913111733, 'scale': 1.4035300330354654}\n",
      "{'intercept': 1, 'dummy': 0.9303457458145504, 'scale': 1.0814691841138147}\n",
      "{'intercept': 1, 'dummy': 0.963567510366815, 'scale': 1.1593112773265712}\n",
      "{'intercept': 0, 'dummy': 0.8533361581037546, 'scale': 1.3114949846166635}\n",
      "{'intercept': 1, 'dummy': 0.01698129953559169, 'scale': 2.1554649646520563}\n",
      "{'intercept': 1, 'dummy': 0.04042515738061115, 'scale': 1.089375309500431}\n",
      "{'intercept': 0, 'dummy': 0.010792473560324868, 'scale': 1.0892542047351852}\n",
      "{'intercept': 0, 'dummy': 0.615545888286668, 'scale': 1.0863550039122285}\n",
      "{'intercept': 0, 'dummy': 0.815680629076426, 'scale': 1.085523723809271}\n",
      "{'intercept': 0, 'dummy': 0.6211665048833183, 'scale': 1.0917856308090976}\n",
      "{'intercept': 0, 'dummy': 0.6103847373488682, 'scale': 1.0850571067873438}\n",
      "{'intercept': 0, 'dummy': 0.6315754121377365, 'scale': 1.0861694645852245}\n",
      "{'intercept': 1, 'dummy': 0.12074179599348203, 'scale': 1.0830903960737581}\n",
      "{'intercept': 0, 'dummy': 0.8229042014777961, 'scale': 1.0842978766518336}\n",
      "{'intercept': 1, 'dummy': 0.6704444617968224, 'scale': 1.1098402625344383}\n",
      "{'intercept': 0, 'dummy': 0.8774678088196949, 'scale': 1.0882343367639535}\n",
      "{'intercept': 0, 'dummy': 0.8828504084048125, 'scale': 1.0400085376019277}\n",
      "{'intercept': 0, 'dummy': 0.8856164519197874, 'scale': 1.0828015765621988}\n",
      "{'intercept': 0, 'dummy': 0.6777857712237204, 'scale': 1.0867748848610668}\n",
      "{'intercept': 0, 'dummy': 0.8745953375627501, 'scale': 1.0875263298232594}\n",
      "{'intercept': 0, 'dummy': 0.8573471058984495, 'scale': 1.0841228483396579}\n",
      "{'intercept': 0, 'dummy': 0.8775756465447478, 'scale': 1.085933787064015}\n",
      "{'intercept': 0, 'dummy': 0.8740821694041512, 'scale': 1.5373494224744602}\n",
      "{'intercept': 0, 'dummy': 0.873914096525901, 'scale': 1.0873187147881174}\n",
      "{'intercept': 0, 'dummy': 0.6401811540156889, 'scale': 1.1149380778521616}\n",
      "{'intercept': 0, 'dummy': 0.6393270839756017, 'scale': 1.147641979956699}\n",
      "{'intercept': 0, 'dummy': 0.8353391544511114, 'scale': 1.0884941814827034}\n",
      "{'intercept': 0, 'dummy': 0.6953453876617314, 'scale': 1.361382204138382}\n",
      "{'intercept': 0, 'dummy': 0.8689842591988847, 'scale': 1.1609407459661392}\n",
      "{'intercept': 0, 'dummy': 0.8430008623387434, 'scale': 1.0864965979119705}\n",
      "{'intercept': 0, 'dummy': 0.39654523123236096, 'scale': 1.1199732167617196}\n",
      "{'intercept': 0, 'dummy': 0.8737907595064253, 'scale': 1.0862299740999006}\n",
      "{'intercept': 0, 'dummy': 0.017152076324528757, 'scale': 1.0867941097087668}\n",
      "{'intercept': 0, 'dummy': 0.09605605584698332, 'scale': 1.2072590088953103}\n",
      "{'intercept': 0, 'dummy': 0.014242819098556517, 'scale': 1.920487512966943}\n",
      "{'intercept': 1, 'dummy': 0.9496251388341561, 'scale': 1.0910251146089065}\n",
      "{'intercept': 0, 'dummy': 0.033908620044361466, 'scale': 1.0856775655740196}\n",
      "{'intercept': 0, 'dummy': 0.6790046462537864, 'scale': 1.2443772617789461}\n",
      "{'intercept': 0, 'dummy': 0.8782372319371357, 'scale': 1.0878669089603585}\n",
      "{'intercept': 0, 'dummy': 0.8838001071714403, 'scale': 1.4777865854838228}\n",
      "{'intercept': 0, 'dummy': 0.1539527584882632, 'scale': 1.0984215178395424}\n",
      "{'intercept': 0, 'dummy': 0.11692600652897558, 'scale': 1.1012570078724004}\n",
      "{'intercept': 0, 'dummy': 0.1508298616270696, 'scale': 1.0897081785893068}\n",
      "{'intercept': 0, 'dummy': 0.18319754808298086, 'scale': 1.1036896103069638}\n"
     ]
    }
   ],
   "source": [
    "g = opt_fit(space)"
   ]
  },
  {
   "cell_type": "code",
   "execution_count": null,
   "metadata": {},
   "outputs": [],
   "source": [
    "from skopt import forest_minimize"
   ]
  },
  {
   "cell_type": "code",
   "execution_count": null,
   "metadata": {},
   "outputs": [],
   "source": [
    "ml = MLModel(df)"
   ]
  },
  {
   "cell_type": "code",
   "execution_count": null,
   "metadata": {},
   "outputs": [],
   "source": [
    "ml.set_params(intercept=0,dummy=0,scale=1)\n",
    "ml._train()"
   ]
  },
  {
   "cell_type": "code",
   "execution_count": null,
   "metadata": {},
   "outputs": [],
   "source": [
    "ml.set_params(intercept=1,dummy=0,scale=1)\n",
    "ml._train()"
   ]
  },
  {
   "cell_type": "code",
   "execution_count": null,
   "metadata": {
    "scrolled": true
   },
   "outputs": [],
   "source": [
    "g = ml.opt_fit(space)"
   ]
  },
  {
   "cell_type": "code",
   "execution_count": null,
   "metadata": {},
   "outputs": [],
   "source": [
    "g.fun"
   ]
  },
  {
   "cell_type": "code",
   "execution_count": null,
   "metadata": {},
   "outputs": [],
   "source": [
    "g.x"
   ]
  },
  {
   "cell_type": "code",
   "execution_count": null,
   "metadata": {},
   "outputs": [],
   "source": [
    "g"
   ]
  },
  {
   "cell_type": "code",
   "execution_count": null,
   "metadata": {},
   "outputs": [],
   "source": []
  }
 ],
 "metadata": {
  "kernelspec": {
   "display_name": "Python 3",
   "language": "python",
   "name": "python3"
  },
  "language_info": {
   "codemirror_mode": {
    "name": "ipython",
    "version": 3
   },
   "file_extension": ".py",
   "mimetype": "text/x-python",
   "name": "python",
   "nbconvert_exporter": "python",
   "pygments_lexer": "ipython3",
   "version": "3.6.4"
  }
 },
 "nbformat": 4,
 "nbformat_minor": 2
}

{
 "cells": [
  {
   "cell_type": "code",
   "execution_count": 1,
   "metadata": {},
   "outputs": [],
   "source": [
    "import autokeras\n",
    "import pandas\n",
    "import numpy"
   ]
  },
  {
   "cell_type": "code",
   "execution_count": 2,
   "metadata": {},
   "outputs": [],
   "source": [
    "n = 1000\n",
    "df = pandas.DataFrame(\n",
    "    {\n",
    "        \"x\": numpy.random.rand(n),\n",
    "        \"y\": numpy.random.rand(n)\n",
    "    }\n",
    ")\n",
    "df[\"z\"] = df[\"x\"].apply(lambda x: 1 if x >= 0.5 else 0)\n",
    "df_train = df[0:800]\n",
    "df_test = df[800:]\n",
    "\n",
    "x_train = numpy.array(df_train[[\"x\", \"y\"]])\n",
    "y_train = numpy.array(df_train[\"z\"])\n",
    "\n",
    "x_test = numpy.array(df_test[[\"x\", \"y\"]])\n",
    "y_test = numpy.array(df_test[\"z\"])"
   ]
  },
  {
   "cell_type": "code",
   "execution_count": 3,
   "metadata": {},
   "outputs": [
    {
     "data": {
      "text/html": [
       "<div>\n",
       "<style scoped>\n",
       "    .dataframe tbody tr th:only-of-type {\n",
       "        vertical-align: middle;\n",
       "    }\n",
       "\n",
       "    .dataframe tbody tr th {\n",
       "        vertical-align: top;\n",
       "    }\n",
       "\n",
       "    .dataframe thead th {\n",
       "        text-align: right;\n",
       "    }\n",
       "</style>\n",
       "<table border=\"1\" class=\"dataframe\">\n",
       "  <thead>\n",
       "    <tr style=\"text-align: right;\">\n",
       "      <th></th>\n",
       "      <th>x</th>\n",
       "      <th>y</th>\n",
       "      <th>z</th>\n",
       "    </tr>\n",
       "  </thead>\n",
       "  <tbody>\n",
       "    <tr>\n",
       "      <th>0</th>\n",
       "      <td>0.488413</td>\n",
       "      <td>0.856357</td>\n",
       "      <td>0</td>\n",
       "    </tr>\n",
       "    <tr>\n",
       "      <th>1</th>\n",
       "      <td>0.708752</td>\n",
       "      <td>0.219288</td>\n",
       "      <td>1</td>\n",
       "    </tr>\n",
       "    <tr>\n",
       "      <th>2</th>\n",
       "      <td>0.885611</td>\n",
       "      <td>0.555843</td>\n",
       "      <td>1</td>\n",
       "    </tr>\n",
       "    <tr>\n",
       "      <th>3</th>\n",
       "      <td>0.828803</td>\n",
       "      <td>0.956945</td>\n",
       "      <td>1</td>\n",
       "    </tr>\n",
       "    <tr>\n",
       "      <th>4</th>\n",
       "      <td>0.860225</td>\n",
       "      <td>0.744252</td>\n",
       "      <td>1</td>\n",
       "    </tr>\n",
       "  </tbody>\n",
       "</table>\n",
       "</div>"
      ],
      "text/plain": [
       "          x         y  z\n",
       "0  0.488413  0.856357  0\n",
       "1  0.708752  0.219288  1\n",
       "2  0.885611  0.555843  1\n",
       "3  0.828803  0.956945  1\n",
       "4  0.860225  0.744252  1"
      ]
     },
     "execution_count": 3,
     "metadata": {},
     "output_type": "execute_result"
    }
   ],
   "source": [
    "df.head(5)"
   ]
  },
  {
   "cell_type": "code",
   "execution_count": 4,
   "metadata": {},
   "outputs": [],
   "source": [
    "model = autokeras.ImageClassifier()"
   ]
  },
  {
   "cell_type": "code",
   "execution_count": 6,
   "metadata": {},
   "outputs": [],
   "source": [
    "model.fit(x_train.reshape(800, 2, 1), y_train, time_limit=0.05*60*60)"
   ]
  },
  {
   "cell_type": "code",
   "execution_count": 7,
   "metadata": {},
   "outputs": [],
   "source": [
    "model.final_fit(\n",
    "    x_train.reshape(800, 2, 1),\n",
    "    y_train,\n",
    "    x_test.reshape(200, 2, 1),\n",
    "    y_test,\n",
    "    retrain=False)"
   ]
  },
  {
   "cell_type": "code",
   "execution_count": 8,
   "metadata": {},
   "outputs": [
    {
     "data": {
      "text/plain": [
       "array([1], dtype=int64)"
      ]
     },
     "execution_count": 8,
     "metadata": {},
     "output_type": "execute_result"
    }
   ],
   "source": [
    "model.predict(numpy.array([0.6, 0.1]).reshape(1,2,1))"
   ]
  },
  {
   "cell_type": "code",
   "execution_count": 9,
   "metadata": {},
   "outputs": [
    {
     "data": {
      "text/plain": [
       "array([0], dtype=int64)"
      ]
     },
     "execution_count": 9,
     "metadata": {},
     "output_type": "execute_result"
    }
   ],
   "source": [
    "model.predict(numpy.array([0.4, 0.1]).reshape(1,2,1))"
   ]
  },
  {
   "cell_type": "code",
   "execution_count": 10,
   "metadata": {},
   "outputs": [
    {
     "data": {
      "text/plain": [
       "array([0, 1], dtype=int64)"
      ]
     },
     "execution_count": 10,
     "metadata": {},
     "output_type": "execute_result"
    }
   ],
   "source": [
    "model.predict(numpy.array([[0.45, 0.1], [0.55, 0.8]]).reshape(2,2,1))"
   ]
  },
  {
   "cell_type": "code",
   "execution_count": 11,
   "metadata": {},
   "outputs": [
    {
     "data": {
      "text/plain": [
       "[{'model_id': 0,\n",
       "  'loss': 0.05906128436326981,\n",
       "  'metric_value': 0.9727272727272727},\n",
       " {'model_id': 1,\n",
       "  'loss': 0.07171969339251519,\n",
       "  'metric_value': 0.9575757575757576}]"
      ]
     },
     "execution_count": 11,
     "metadata": {},
     "output_type": "execute_result"
    }
   ],
   "source": [
    "model.cnn.searcher.history"
   ]
  },
  {
   "cell_type": "code",
   "execution_count": 12,
   "metadata": {
    "scrolled": true
   },
   "outputs": [
    {
     "data": {
      "text/plain": [
       "TorchModel(\n",
       "  (0): ReLU()\n",
       "  (1): BatchNorm1d(1, eps=1e-05, momentum=0.1, affine=True, track_running_stats=True)\n",
       "  (2): Conv1d(1, 64, kernel_size=(3,), stride=(1,), padding=(1,))\n",
       "  (3): MaxPool1d(kernel_size=2, stride=2, padding=0, dilation=1, ceil_mode=False)\n",
       "  (4): ReLU()\n",
       "  (5): BatchNorm1d(64, eps=1e-05, momentum=0.1, affine=True, track_running_stats=True)\n",
       "  (6): Conv1d(64, 64, kernel_size=(3,), stride=(1,), padding=(1,))\n",
       "  (7): MaxPool1d(kernel_size=2, stride=2, padding=0, dilation=1, ceil_mode=False)\n",
       "  (8): ReLU()\n",
       "  (9): BatchNorm1d(64, eps=1e-05, momentum=0.1, affine=True, track_running_stats=True)\n",
       "  (10): Conv1d(64, 64, kernel_size=(3,), stride=(1,), padding=(1,))\n",
       "  (11): MaxPool1d(kernel_size=2, stride=2, padding=0, dilation=1, ceil_mode=False)\n",
       "  (12): GlobalAvgPool1d()\n",
       "  (13): Dropout(p=0.25)\n",
       "  (14): Linear(in_features=64, out_features=64, bias=True)\n",
       "  (15): ReLU()\n",
       "  (16): Linear(in_features=64, out_features=2, bias=True)\n",
       ")"
      ]
     },
     "execution_count": 12,
     "metadata": {},
     "output_type": "execute_result"
    }
   ],
   "source": [
    "model.cnn.best_model.produce_model()"
   ]
  },
  {
   "cell_type": "code",
   "execution_count": 13,
   "metadata": {},
   "outputs": [
    {
     "data": {
      "text/plain": [
       "[<autokeras.nn.layers.StubReLU at 0x1f1a0fa6518>,\n",
       " <autokeras.nn.layers.StubBatchNormalization1d at 0x1f1a0fa6128>,\n",
       " <autokeras.nn.layers.StubConv1d at 0x1f1a0fa6320>,\n",
       " <autokeras.nn.layers.StubPooling1d at 0x1f1a0d9ea20>,\n",
       " <autokeras.nn.layers.StubReLU at 0x1f1a0d9e940>,\n",
       " <autokeras.nn.layers.StubBatchNormalization1d at 0x1f1a0d9e6a0>,\n",
       " <autokeras.nn.layers.StubConv1d at 0x1f1a0d9ecc0>,\n",
       " <autokeras.nn.layers.StubPooling1d at 0x1f1a0d9e588>,\n",
       " <autokeras.nn.layers.StubReLU at 0x1f1a0d9e630>,\n",
       " <autokeras.nn.layers.StubBatchNormalization1d at 0x1f1a0d9e160>,\n",
       " <autokeras.nn.layers.StubConv1d at 0x1f1a0d9e0b8>,\n",
       " <autokeras.nn.layers.StubPooling1d at 0x1f1a0d9ec50>,\n",
       " <autokeras.nn.layers.StubGlobalPooling1d at 0x1f1a0d9e710>,\n",
       " <autokeras.nn.layers.StubDropout1d at 0x1f1a0d9e6d8>,\n",
       " <autokeras.nn.layers.StubDense at 0x1f1a0eafef0>,\n",
       " <autokeras.nn.layers.StubReLU at 0x1f1a0eafa90>,\n",
       " <autokeras.nn.layers.StubDense at 0x1f1a0eafb38>]"
      ]
     },
     "execution_count": 13,
     "metadata": {},
     "output_type": "execute_result"
    }
   ],
   "source": [
    "model.cnn.best_model.layer_list"
   ]
  },
  {
   "cell_type": "code",
   "execution_count": 14,
   "metadata": {},
   "outputs": [],
   "source": [
    "path = \"model.pkl\"\n",
    "model.export_autokeras_model(path)"
   ]
  },
  {
   "cell_type": "code",
   "execution_count": 15,
   "metadata": {},
   "outputs": [],
   "source": [
    "# 予測"
   ]
  },
  {
   "cell_type": "code",
   "execution_count": 16,
   "metadata": {},
   "outputs": [],
   "source": [
    "output_model = autokeras.utils.pickle_from_file(path)"
   ]
  },
  {
   "cell_type": "code",
   "execution_count": 17,
   "metadata": {},
   "outputs": [
    {
     "data": {
      "text/plain": [
       "array([0, 1, 0], dtype=int64)"
      ]
     },
     "execution_count": 17,
     "metadata": {},
     "output_type": "execute_result"
    }
   ],
   "source": [
    "output_model.predict(numpy.array([[0.45, 0.1], [0.55, 0.8], [0.49, 0.1]]).reshape(3,2,1))"
   ]
  },
  {
   "cell_type": "code",
   "execution_count": null,
   "metadata": {},
   "outputs": [],
   "source": []
  }
 ],
 "metadata": {
  "kernelspec": {
   "display_name": "Python 3",
   "language": "python",
   "name": "python3"
  },
  "language_info": {
   "codemirror_mode": {
    "name": "ipython",
    "version": 3
   },
   "file_extension": ".py",
   "mimetype": "text/x-python",
   "name": "python",
   "nbconvert_exporter": "python",
   "pygments_lexer": "ipython3",
   "version": "3.6.7"
  }
 },
 "nbformat": 4,
 "nbformat_minor": 2
}

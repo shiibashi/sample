{
 "cells": [
  {
   "cell_type": "code",
   "execution_count": 1,
   "metadata": {},
   "outputs": [],
   "source": [
    "import pandas\n",
    "import numpy\n",
    "import matplotlib.pyplot as plt\n",
    "import sklearn.linear_model\n",
    "\n",
    "n = 100\n",
    "x = numpy.random.rand(n)\n",
    "y1 = 2 * x + numpy.random.rand(n) * 0.1\n",
    "y2 = 4 * x - 2 + numpy.random.rand(n) * 0.5\n",
    "df1 = pandas.DataFrame({\"x\": x, \"y\": y1})\n",
    "df2 = pandas.DataFrame({\"x\": x, \"y\": y2})\n",
    "df = pandas.concat([df1, df2], axis=0).reset_index(drop=True)"
   ]
  },
  {
   "cell_type": "code",
   "execution_count": 2,
   "metadata": {
    "scrolled": true
   },
   "outputs": [
    {
     "data": {
      "image/png": "[encoded data removed]",
      "text/plain": [
       "<Figure size 432x288 with 1 Axes>"
      ]
     },
     "metadata": {
      "needs_background": "light"
     },
     "output_type": "display_data"
    }
   ],
   "source": [
    "plt.scatter(df[\"x\"], df[\"y\"])\n",
    "plt.show()"
   ]
  },
  {
   "cell_type": "code",
   "execution_count": 3,
   "metadata": {},
   "outputs": [],
   "source": [
    "from sklearn.linear_model import LinearRegression"
   ]
  },
  {
   "cell_type": "code",
   "execution_count": 4,
   "metadata": {
    "scrolled": true
   },
   "outputs": [
    {
     "data": {
      "text/plain": [
       "(array([-0.8329533]), array([[2.96370686]]))"
      ]
     },
     "execution_count": 4,
     "metadata": {},
     "output_type": "execute_result"
    }
   ],
   "source": [
    "model = LinearRegression()\n",
    "x_arr, y_arr = numpy.array(df[[\"x\"]]), numpy.array(df[[\"y\"]])\n",
    "model.fit(x_arr, y_arr)\n",
    "model.intercept_, model.coef_"
   ]
  },
  {
   "cell_type": "code",
   "execution_count": 5,
   "metadata": {},
   "outputs": [],
   "source": [
    "import math\n",
    "import scipy.optimize\n",
    "\n",
    "h = 0.00001\n",
    "\n",
    "class MyLinearRegression(object):\n",
    "    \n",
    "    def __init__(self):\n",
    "        self.p = None\n",
    "        \n",
    "    def predict(self, x):\n",
    "        x2 = self.append_intercept(x)\n",
    "        return self._f(self.p, x2)\n",
    "\n",
    "    def _f(self, p, x):\n",
    "        return (x * p).sum(axis=1)\n",
    "\n",
    "    def loss(self, y_true, y_pred):\n",
    "        return ((y_true - y_pred) ** 2).sum()\n",
    "\n",
    "    def partial_diff(self, f, p):\n",
    "        pd = numpy.zeros(len(p))\n",
    "        for i in range(len(p)):\n",
    "            p1 = p.copy()\n",
    "            p1[i] += h\n",
    "            p2 = p.copy()\n",
    "            p2[i] -= h\n",
    "            pd[i] = (f(p1) - f(p2)) / 2\n",
    "        return pd\n",
    "\n",
    "    def append_intercept(self, x):\n",
    "        intercept = numpy.ones(len(x)).reshape(-1, 1)\n",
    "        x2 = numpy.concatenate([x, intercept], axis=1)\n",
    "        return x2\n",
    "    \n",
    "    def fit(self, x, y, split_num=14):\n",
    "        x2 = self.append_intercept(x)\n",
    "        # 逆順してsplit_numごとに分割先頭のいくつかはsplitに不要分は除外される\n",
    "        split_arr_x = numpy.array_split(x2[::-1], len(x2) // split_num)\n",
    "        split_arr_y = numpy.array_split(y[::-1], len(y) // split_num)\n",
    "        \n",
    "        itr = 0\n",
    "        # 逆順に取得して先頭からデータを取り出す\n",
    "        for arr_x, arr_y in zip(split_arr_x[::-1], split_arr_y[::-1]):\n",
    "            if itr == 0:\n",
    "                self.train(arr_x, arr_y, itr=1000)\n",
    "            else:\n",
    "                self.train(arr_x, arr_y, init_p=self.p, itr=20)\n",
    "            itr += 1\n",
    "            print(self.p)\n",
    "        \n",
    "    \n",
    "    def train(self, x, y, init_p=None, itr=1000, epsilon=0.000001):\n",
    "        if init_p is None:\n",
    "            init_p = numpy.zeros(x.shape[1])\n",
    "        f = lambda p: self.loss(y, self._f(p, x))\n",
    "        f_prime = lambda p: self.partial_diff(f, p)\n",
    "        p = init_p\n",
    "        v = f(p)\n",
    "        for i in range(itr):\n",
    "            grad = self.partial_diff(f, p)\n",
    "            step =  scipy.optimize.line_search(f, f_prime, xk=p, pk=-grad)[0]\n",
    "            #print(step)\n",
    "            if step is None:\n",
    "                print(\"converged: step is None\")\n",
    "                break                \n",
    "            p = p - step * grad\n",
    "            vn = f(p)\n",
    "            if math.fabs((v - vn)/v) <= epsilon:\n",
    "                print(\"converged\")\n",
    "                break\n",
    "            v = vn\n",
    "        self.p = p        "
   ]
  },
  {
   "cell_type": "code",
   "execution_count": 6,
   "metadata": {},
   "outputs": [],
   "source": [
    "self = MyLinearRegression()"
   ]
  },
  {
   "cell_type": "code",
   "execution_count": 7,
   "metadata": {
    "scrolled": true
   },
   "outputs": [
    {
     "name": "stderr",
     "output_type": "stream",
     "text": [
      "/home/systra/.pyenv/versions/3.7.3/envs/dev/lib/python3.7/site-packages/scipy/optimize/linesearch.py:466: LineSearchWarning: The line search algorithm did not converge\n",
      "  warn('The line search algorithm did not converge', LineSearchWarning)\n",
      "/home/systra/.pyenv/versions/3.7.3/envs/dev/lib/python3.7/site-packages/scipy/optimize/linesearch.py:314: LineSearchWarning: The line search algorithm did not converge\n",
      "  warn('The line search algorithm did not converge', LineSearchWarning)\n"
     ]
    },
    {
     "name": "stdout",
     "output_type": "stream",
     "text": [
      "converged\n",
      "[1.94671606 0.07107385]\n",
      "[1.95795172 0.05815087]\n",
      "[1.9688116  0.05909348]\n",
      "[1.98279872 0.06177322]\n",
      "[1.99547114 0.06564685]\n",
      "[1.98808775 0.05044189]\n",
      "[1.98270038 0.04439877]\n",
      "[ 2.24317341 -0.91387594]\n",
      "[ 2.87810912 -1.211801  ]\n",
      "[ 3.19870611 -1.39572372]\n",
      "[ 3.44656256 -1.45844045]\n",
      "[ 3.45113365 -1.58538281]\n",
      "[ 3.57976982 -1.46263924]\n",
      "[ 3.74702732 -1.56085749]\n"
     ]
    }
   ],
   "source": [
    "x = numpy.array(df[[\"x\"]])\n",
    "y = numpy.array(df[\"y\"])\n",
    "self.fit(x, y)"
   ]
  },
  {
   "cell_type": "code",
   "execution_count": null,
   "metadata": {},
   "outputs": [],
   "source": []
  }
 ],
 "metadata": {
  "kernelspec": {
   "display_name": "Python 3",
   "language": "python",
   "name": "python3"
  },
  "language_info": {
   "codemirror_mode": {
    "name": "ipython",
    "version": 3
   },
   "file_extension": ".py",
   "mimetype": "text/x-python",
   "name": "python",
   "nbconvert_exporter": "python",
   "pygments_lexer": "ipython3",
   "version": "3.7.3"
  }
 },
 "nbformat": 4,
 "nbformat_minor": 2
}

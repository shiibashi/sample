{
 "cells": [
  {
   "cell_type": "code",
   "execution_count": 1,
   "metadata": {},
   "outputs": [],
   "source": [
    "import sklearn\n",
    "import math\n",
    "import pandas\n",
    "import numpy\n",
    "from sklearn.linear_model import LinearRegression"
   ]
  },
  {
   "cell_type": "code",
   "execution_count": 2,
   "metadata": {
    "scrolled": true
   },
   "outputs": [],
   "source": [
    "df = pandas.DataFrame({\"x\": numpy.random.rand(100)})\n",
    "df[\"y\"] = -df[\"x\"] * df[\"x\"] + 4\n",
    "df[\"z\"] = df[\"y\"] * 2 + df[\"x\"]"
   ]
  },
  {
   "cell_type": "code",
   "execution_count": 3,
   "metadata": {},
   "outputs": [],
   "source": [
    "from skopt.space import Real, Integer\n",
    "from skopt.utils import use_named_args\n",
    "\n",
    "space = [\n",
    "    Integer(0, 1, name=\"intercept\"),\n",
    "    Real(0, 1, \"uniform\", name=\"dummy\"),\n",
    "    Real(1, 5, \"uniform\", name=\"scale\"),    \n",
    "]"
   ]
  },
  {
   "cell_type": "code",
   "execution_count": 4,
   "metadata": {},
   "outputs": [],
   "source": [
    "from skopt import gp_minimize\n",
    "from skopt import forest_minimize\n",
    "\n",
    "class MLModel(object):\n",
    "    def __init__(self, df, params={}):\n",
    "        self.params = params\n",
    "        self.df = df\n",
    "    \n",
    "    def set_params(self, **params):\n",
    "        print(params)\n",
    "        self.params = params\n",
    "\n",
    "    def set_dataftame(self, df):\n",
    "        self.df = df\n",
    "        \n",
    "    def opt_fit(self, space):\n",
    "        #gp = gp_minimize(self.objective, space, n_calls=50, random_state=0)\n",
    "        \n",
    "        @use_named_args(space)\n",
    "        def my_objective(**params):\n",
    "            self.set_params(**params)\n",
    "            obj = self._train()\n",
    "            return -obj\n",
    "            \n",
    "        gp = forest_minimize(func=my_objective, dimensions=space)\n",
    "        return gp\n",
    "       \n",
    "    def objective(self, **params):\n",
    "        self.set_params(**params)\n",
    "        obj = self._train()\n",
    "        return obj\n",
    "        \n",
    "    def _train(self):\n",
    "        df = self.df.copy()\n",
    "        lm = LinearRegression(fit_intercept=self.params[\"intercept\"])\n",
    "        df[\"z\"] = df[\"z\"] + numpy.random.rand(len(df)) * self.params[\"scale\"] + self.params[\"dummy\"]\n",
    "        lm.fit(df[[\"x\", \"y\"]], df[\"z\"])\n",
    "        obj = lm.score(df[[\"x\", \"y\"]], df[\"z\"])\n",
    "        return obj"
   ]
  },
  {
   "cell_type": "code",
   "execution_count": 5,
   "metadata": {},
   "outputs": [],
   "source": [
    "from skopt import forest_minimize"
   ]
  },
  {
   "cell_type": "code",
   "execution_count": 6,
   "metadata": {},
   "outputs": [],
   "source": [
    "ml = MLModel(df)"
   ]
  },
  {
   "cell_type": "code",
   "execution_count": 7,
   "metadata": {},
   "outputs": [
    {
     "name": "stdout",
     "output_type": "stream",
     "text": [
      "{'intercept': 0, 'dummy': 0, 'scale': 1}\n"
     ]
    },
    {
     "data": {
      "text/plain": [
       "0.5803000280618191"
      ]
     },
     "execution_count": 7,
     "metadata": {},
     "output_type": "execute_result"
    }
   ],
   "source": [
    "ml.set_params(intercept=0,dummy=0,scale=1)\n",
    "ml._train()"
   ]
  },
  {
   "cell_type": "code",
   "execution_count": 8,
   "metadata": {},
   "outputs": [
    {
     "name": "stdout",
     "output_type": "stream",
     "text": [
      "{'intercept': 1, 'dummy': 0, 'scale': 1}\n"
     ]
    },
    {
     "data": {
      "text/plain": [
       "0.6391151620273918"
      ]
     },
     "execution_count": 8,
     "metadata": {},
     "output_type": "execute_result"
    }
   ],
   "source": [
    "ml.set_params(intercept=1,dummy=0,scale=1)\n",
    "ml._train()"
   ]
  },
  {
   "cell_type": "code",
   "execution_count": 9,
   "metadata": {
    "scrolled": true
   },
   "outputs": [
    {
     "name": "stdout",
     "output_type": "stream",
     "text": [
      "{'intercept': 0, 'dummy': 0.7148317322183356, 'scale': 2.9939886659508654}\n",
      "{'intercept': 0, 'dummy': 0.12986770452523902, 'scale': 2.1285899779312683}\n",
      "{'intercept': 0, 'dummy': 0.5890170765754695, 'scale': 1.1643103981251524}\n",
      "{'intercept': 0, 'dummy': 0.28045126961797645, 'scale': 4.339768287418433}\n",
      "{'intercept': 0, 'dummy': 0.1756990007410039, 'scale': 1.8011290449780695}\n",
      "{'intercept': 1, 'dummy': 0.7361593391833776, 'scale': 3.76283481226753}\n",
      "{'intercept': 1, 'dummy': 0.03232571003428542, 'scale': 1.0231474527820077}\n",
      "{'intercept': 1, 'dummy': 0.6204761327236249, 'scale': 4.49666739903041}\n",
      "{'intercept': 1, 'dummy': 0.3857186708138761, 'scale': 2.5060782872825165}\n",
      "{'intercept': 0, 'dummy': 0.4330662696981289, 'scale': 3.506931887129465}\n",
      "{'intercept': 1, 'dummy': 0.05286867248425266, 'scale': 1.4869858140628347}\n",
      "{'intercept': 1, 'dummy': 0.37534494082046743, 'scale': 1.1085014462969593}\n",
      "{'intercept': 1, 'dummy': 0.9751961183607238, 'scale': 1.1815877155369785}\n",
      "{'intercept': 1, 'dummy': 0.9262717911707095, 'scale': 1.2255081099626395}\n",
      "{'intercept': 1, 'dummy': 0.8944488544826592, 'scale': 1.2137277919925857}\n",
      "{'intercept': 1, 'dummy': 0.8900988050560338, 'scale': 1.577962133540582}\n",
      "{'intercept': 1, 'dummy': 0.627079584652768, 'scale': 1.1867243880056426}\n",
      "{'intercept': 1, 'dummy': 0.6294141292450837, 'scale': 1.111116198536855}\n",
      "{'intercept': 1, 'dummy': 0.5901803083043372, 'scale': 1.1873200746281984}\n",
      "{'intercept': 1, 'dummy': 0.6258354628638273, 'scale': 1.1896533071904036}\n",
      "{'intercept': 1, 'dummy': 0.48345590057058574, 'scale': 1.122663263266067}\n",
      "{'intercept': 1, 'dummy': 0.4749677516843108, 'scale': 1.122416489223896}\n",
      "{'intercept': 1, 'dummy': 0.4754014344044202, 'scale': 1.0441081562474523}\n",
      "{'intercept': 0, 'dummy': 0.49403980785623236, 'scale': 1.0360280199046525}\n",
      "{'intercept': 0, 'dummy': 0.4089598081375184, 'scale': 1.0090915730266636}\n",
      "{'intercept': 1, 'dummy': 0.5862366856648261, 'scale': 1.124148428312572}\n",
      "{'intercept': 1, 'dummy': 0.6784394158988645, 'scale': 1.1277352453794776}\n",
      "{'intercept': 1, 'dummy': 0.7118075289596291, 'scale': 1.13011546402711}\n",
      "{'intercept': 1, 'dummy': 0.7476094450005595, 'scale': 1.1241816528901478}\n",
      "{'intercept': 1, 'dummy': 0.7052874347534165, 'scale': 1.1296346965543784}\n",
      "{'intercept': 1, 'dummy': 0.7215565455553733, 'scale': 1.118225546550895}\n",
      "{'intercept': 1, 'dummy': 0.7359343659642353, 'scale': 1.1350165159837466}\n",
      "{'intercept': 1, 'dummy': 0.7683324857579159, 'scale': 1.036611232440423}\n",
      "{'intercept': 1, 'dummy': 0.7659473198838892, 'scale': 1.006172153368817}\n",
      "{'intercept': 1, 'dummy': 0.730424819550078, 'scale': 1.0006148038628964}\n",
      "{'intercept': 1, 'dummy': 0.7373585093863245, 'scale': 1.0278381498325735}\n",
      "{'intercept': 1, 'dummy': 0.7635379584728837, 'scale': 1.0115383639960553}\n",
      "{'intercept': 1, 'dummy': 0.7544704820789322, 'scale': 1.0122726285288977}\n",
      "{'intercept': 1, 'dummy': 0.7133591260306027, 'scale': 1.003707014080414}\n",
      "{'intercept': 1, 'dummy': 0.7364189629355403, 'scale': 1.0055355830728123}\n",
      "{'intercept': 1, 'dummy': 0.7417107508900646, 'scale': 1.0052499988374755}\n",
      "{'intercept': 1, 'dummy': 0.7357769638227056, 'scale': 1.0026675564321654}\n",
      "{'intercept': 1, 'dummy': 0.6055595357929984, 'scale': 1.0028544666953039}\n",
      "{'intercept': 1, 'dummy': 0.7634961244788255, 'scale': 1.5690998744422586}\n",
      "{'intercept': 0, 'dummy': 0.9526552267651502, 'scale': 1.0020597330600376}\n",
      "{'intercept': 1, 'dummy': 0.22825868705577573, 'scale': 1.001969673516617}\n",
      "{'intercept': 1, 'dummy': 0.9089894567549976, 'scale': 1.0091383692479732}\n",
      "{'intercept': 1, 'dummy': 0.6612474030051542, 'scale': 1.0145336367143623}\n",
      "{'intercept': 1, 'dummy': 0.3825455836138071, 'scale': 1.0014727715308651}\n",
      "{'intercept': 1, 'dummy': 0.4015981822312571, 'scale': 1.005215692415752}\n",
      "{'intercept': 1, 'dummy': 0.05937063256605869, 'scale': 1.001847882266091}\n",
      "{'intercept': 1, 'dummy': 0.02377749966093424, 'scale': 1.0002439002013443}\n",
      "{'intercept': 1, 'dummy': 0.3457776875796807, 'scale': 1.0000838124849594}\n",
      "{'intercept': 1, 'dummy': 0.3875470168463063, 'scale': 1.0164807340957336}\n",
      "{'intercept': 1, 'dummy': 0.3896876413593727, 'scale': 1.0068346943739286}\n",
      "{'intercept': 1, 'dummy': 0.9717792536890749, 'scale': 1.00103901549652}\n",
      "{'intercept': 1, 'dummy': 0.3385166121796505, 'scale': 1.001361167920873}\n",
      "{'intercept': 1, 'dummy': 0.4075003281600118, 'scale': 1.0010108188614866}\n",
      "{'intercept': 1, 'dummy': 0.8875301757719659, 'scale': 1.000189846278416}\n",
      "{'intercept': 1, 'dummy': 0.5814999576561657, 'scale': 1.0013676515084495}\n",
      "{'intercept': 1, 'dummy': 0.05771803280353384, 'scale': 2.0172414354621013}\n",
      "{'intercept': 1, 'dummy': 0.11451080006183881, 'scale': 1.0002645605987017}\n",
      "{'intercept': 1, 'dummy': 0.6151860371845211, 'scale': 1.0007946228456306}\n",
      "{'intercept': 1, 'dummy': 0.8477534909287026, 'scale': 1.000954051500413}\n",
      "{'intercept': 1, 'dummy': 0.06115162180973201, 'scale': 1.0545398169428104}\n",
      "{'intercept': 1, 'dummy': 0.006548751631581308, 'scale': 1.0875683055879497}\n",
      "{'intercept': 1, 'dummy': 0.012409207296310124, 'scale': 1.0954222574794987}\n",
      "{'intercept': 1, 'dummy': 0.07707215271422575, 'scale': 1.0893284011295465}\n",
      "{'intercept': 1, 'dummy': 0.03650630647504439, 'scale': 1.0518606861911617}\n",
      "{'intercept': 1, 'dummy': 0.043839408344222626, 'scale': 1.0951640696665583}\n",
      "{'intercept': 1, 'dummy': 0.058978096651625136, 'scale': 1.1018655405035576}\n",
      "{'intercept': 1, 'dummy': 0.04769350043680977, 'scale': 1.1107253831751844}\n",
      "{'intercept': 1, 'dummy': 0.0594455163527713, 'scale': 1.1356811335933377}\n",
      "{'intercept': 1, 'dummy': 0.05344756924971085, 'scale': 1.1389383465382648}\n",
      "{'intercept': 1, 'dummy': 0.03172273247704483, 'scale': 1.3341238531768744}\n",
      "{'intercept': 1, 'dummy': 0.08055540532171614, 'scale': 1.102299895896747}\n",
      "{'intercept': 1, 'dummy': 0.0673779139164822, 'scale': 1.0966488645069252}\n",
      "{'intercept': 1, 'dummy': 0.06603978064645334, 'scale': 1.1040263634305911}\n",
      "{'intercept': 1, 'dummy': 0.05894755712492196, 'scale': 1.1510320008602846}\n",
      "{'intercept': 1, 'dummy': 0.0509103503651971, 'scale': 1.1017318476876987}\n",
      "{'intercept': 1, 'dummy': 0.012537209131779473, 'scale': 1.1020851216151435}\n",
      "{'intercept': 1, 'dummy': 0.05743354670153979, 'scale': 1.1081005130056973}\n",
      "{'intercept': 1, 'dummy': 0.04246391231480496, 'scale': 1.0818142706114169}\n",
      "{'intercept': 1, 'dummy': 0.05827280971951, 'scale': 1.0625029479118613}\n",
      "{'intercept': 1, 'dummy': 0.06209596085402981, 'scale': 1.098186274241192}\n",
      "{'intercept': 1, 'dummy': 0.020532840934849087, 'scale': 1.3074353098576421}\n",
      "{'intercept': 1, 'dummy': 0.04686034857594224, 'scale': 1.0937113365325462}\n",
      "{'intercept': 1, 'dummy': 0.06055475816566082, 'scale': 1.093658473019743}\n",
      "{'intercept': 1, 'dummy': 0.027015685926851003, 'scale': 1.0893267188592963}\n",
      "{'intercept': 1, 'dummy': 0.05911860284245586, 'scale': 1.0695117481584386}\n",
      "{'intercept': 1, 'dummy': 0.04012312980005229, 'scale': 1.0907029495236453}\n",
      "{'intercept': 1, 'dummy': 0.05714292830565694, 'scale': 1.095664018111187}\n",
      "{'intercept': 1, 'dummy': 0.059820644794671765, 'scale': 1.086188411583941}\n",
      "{'intercept': 1, 'dummy': 0.05792481421097952, 'scale': 1.1371002258315794}\n",
      "{'intercept': 1, 'dummy': 0.6737022206038117, 'scale': 1.0010025021321107}\n",
      "{'intercept': 1, 'dummy': 0.8969227737411738, 'scale': 1.000146193071092}\n",
      "{'intercept': 1, 'dummy': 0.06007244177424666, 'scale': 1.0838930198775385}\n",
      "{'intercept': 1, 'dummy': 0.06447532761290954, 'scale': 1.1023621097959224}\n",
      "{'intercept': 1, 'dummy': 0.1867143180584713, 'scale': 1.0931642115027986}\n",
      "{'intercept': 1, 'dummy': 0.048351258960009594, 'scale': 1.099857928159056}\n"
     ]
    }
   ],
   "source": [
    "g = ml.opt_fit(space)"
   ]
  },
  {
   "cell_type": "code",
   "execution_count": null,
   "metadata": {},
   "outputs": [],
   "source": [
    "g.fun"
   ]
  },
  {
   "cell_type": "code",
   "execution_count": null,
   "metadata": {},
   "outputs": [],
   "source": [
    "g.x"
   ]
  },
  {
   "cell_type": "code",
   "execution_count": null,
   "metadata": {},
   "outputs": [],
   "source": [
    "g"
   ]
  },
  {
   "cell_type": "code",
   "execution_count": null,
   "metadata": {},
   "outputs": [],
   "source": [
    "\n",
    "from  sklearn.datasets  import load_boston\n",
    "from sklearn.ensemble import GradientBoostingRegressor\n",
    "from sklearn.model_selection import cross_val_score\n",
    "\n",
    "boston = load_boston()\n",
    "X, y = boston.data, boston.target\n",
    "n_features = X.shape[1]\n",
    "\n",
    "# gradient boosted trees tend to do well on problems like this\n",
    "reg = GradientBoostingRegressor(n_estimators=50, random_state=0)\n"
   ]
  },
  {
   "cell_type": "code",
   "execution_count": null,
   "metadata": {},
   "outputs": [],
   "source": [
    "from skopt.space import Real, Integer\n",
    "from skopt.utils import use_named_args\n",
    "\n",
    "\n",
    "# The list of hyper-parameters we want to optimize. For each one we define the bounds,\n",
    "# the corresponding scikit-learn parameter name, as well as how to sample values\n",
    "# from that dimension (`'log-uniform'` for the learning rate)\n",
    "space  = [Integer(1, 5, name='max_depth'),\n",
    "          Real(10**-5, 10**0, \"log-uniform\", name='learning_rate'),\n",
    "          Integer(1, n_features, name='max_features'),\n",
    "          Integer(2, 100, name='min_samples_split'),\n",
    "          Integer(1, 100, name='min_samples_leaf')]\n",
    "\n",
    "# this decorator allows your objective function to receive a the parameters as\n",
    "# keyword arguments. This is particularly convenient when you want to set scikit-learn\n",
    "# estimator parameters\n",
    "@use_named_args(space)\n",
    "def objective(**params):\n",
    "    reg.set_params(**params)\n",
    "\n",
    "    return -np.mean(cross_val_score(reg, X, y, cv=5, n_jobs=-1,\n",
    "                                    scoring=\"neg_mean_absolute_error\"))"
   ]
  },
  {
   "cell_type": "code",
   "execution_count": null,
   "metadata": {},
   "outputs": [],
   "source": [
    "import numpy as np\n",
    "from skopt import gp_minimize\n",
    "res_gp = gp_minimize(objective, space, n_calls=50, random_state=0)\n",
    "\n",
    "\"Best score=%.4f\" % res_gp.fun"
   ]
  },
  {
   "cell_type": "code",
   "execution_count": null,
   "metadata": {},
   "outputs": [],
   "source": []
  }
 ],
 "metadata": {
  "kernelspec": {
   "display_name": "Python 3",
   "language": "python",
   "name": "python3"
  },
  "language_info": {
   "codemirror_mode": {
    "name": "ipython",
    "version": 3
   },
   "file_extension": ".py",
   "mimetype": "text/x-python",
   "name": "python",
   "nbconvert_exporter": "python",
   "pygments_lexer": "ipython3",
   "version": "3.6.4"
  }
 },
 "nbformat": 4,
 "nbformat_minor": 2
}
